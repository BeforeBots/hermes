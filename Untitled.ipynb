{
 "cells": [
  {
   "cell_type": "code",
   "execution_count": 1,
   "id": "13e46576",
   "metadata": {
    "ExecuteTime": {
     "end_time": "2021-08-29T19:11:23.883010Z",
     "start_time": "2021-08-29T19:11:16.647021Z"
    }
   },
   "outputs": [],
   "source": [
    "import tensorflow as tf\n",
    "import tensorflow_datasets as tfds\n",
    "# from hermes.custom.LRS import LRS\n",
    "# from hermes.custom.RTP import TrainingPlot\n",
    "from hermes.custom.ES import EarlyStoppingAtMinLoss"
   ]
  },
  {
   "cell_type": "code",
   "execution_count": 3,
   "id": "c4211e58",
   "metadata": {
    "ExecuteTime": {
     "end_time": "2021-08-29T19:11:40.151214Z",
     "start_time": "2021-08-29T19:11:39.792084Z"
    }
   },
   "outputs": [],
   "source": [
    "(ds_train, ds_test), ds_info = tfds.load(\n",
    "    'mnist',\n",
    "    split=['train', 'test'],\n",
    "    shuffle_files=True,\n",
    "    as_supervised=True,\n",
    "    with_info=True,\n",
    ")\n",
    "def normalize_img(image, label):\n",
    "    return tf.cast(image, tf.float32) / 255., label\n",
    "\n",
    "ds_train = ds_train.map(\n",
    "    normalize_img, num_parallel_calls=tf.data.experimental.AUTOTUNE)\n",
    "ds_train = ds_train.cache()\n",
    "ds_train = ds_train.shuffle(ds_info.splits['train'].num_examples)\n",
    "ds_train = ds_train.batch(128)\n",
    "ds_train = ds_train.prefetch(tf.data.experimental.AUTOTUNE)\n",
    "ds_test = ds_test.map(\n",
    "    normalize_img, num_parallel_calls=tf.data.experimental.AUTOTUNE)\n",
    "ds_test = ds_test.batch(128)\n",
    "ds_test = ds_test.cache()\n",
    "ds_test = ds_test.prefetch(tf.data.experimental.AUTOTUNE)\n",
    "model = tf.keras.models.Sequential([\n",
    "  tf.keras.layers.Flatten(input_shape=(28, 28)),\n",
    "  tf.keras.layers.Dense(128,activation='relu'),\n",
    "  tf.keras.layers.Dense(10)\n",
    "])\n",
    "model.compile(\n",
    "    optimizer=tf.keras.optimizers.Adam(0.001),\n",
    "    loss=tf.keras.losses.SparseCategoricalCrossentropy(from_logits=True),\n",
    "    metrics=[tf.keras.metrics.SparseCategoricalAccuracy()],\n",
    ")"
   ]
  },
  {
   "cell_type": "code",
   "execution_count": 5,
   "id": "31b2ed06",
   "metadata": {
    "ExecuteTime": {
     "end_time": "2021-08-29T19:13:07.471374Z",
     "start_time": "2021-08-29T19:12:42.141939Z"
    }
   },
   "outputs": [
    {
     "name": "stdout",
     "output_type": "stream",
     "text": [
      "Epoch 1/30\n",
      "469/469 [==============================] - 2s 4ms/step - loss: 0.0122 - sparse_categorical_accuracy: 0.9972 - val_loss: 0.0780 - val_sparse_categorical_accuracy: 0.9765\n",
      "Epoch 2/30\n",
      "469/469 [==============================] - 2s 4ms/step - loss: 0.0112 - sparse_categorical_accuracy: 0.9974 - val_loss: 0.0738 - val_sparse_categorical_accuracy: 0.9792\n",
      "Epoch 3/30\n",
      "469/469 [==============================] - 2s 5ms/step - loss: 0.0087 - sparse_categorical_accuracy: 0.9985 - val_loss: 0.0840 - val_sparse_categorical_accuracy: 0.9757\n",
      "Epoch 4/30\n",
      "469/469 [==============================] - 2s 5ms/step - loss: 0.0084 - sparse_categorical_accuracy: 0.9984 - val_loss: 0.0808 - val_sparse_categorical_accuracy: 0.9780\n",
      "Epoch 5/30\n",
      "469/469 [==============================] - 3s 5ms/step - loss: 0.0068 - sparse_categorical_accuracy: 0.9988 - val_loss: 0.0827 - val_sparse_categorical_accuracy: 0.9785\n",
      "Epoch 6/30\n",
      "469/469 [==============================] - 2s 5ms/step - loss: 0.0055 - sparse_categorical_accuracy: 0.9992 - val_loss: 0.0785 - val_sparse_categorical_accuracy: 0.9792\n",
      "Epoch 7/30\n",
      "469/469 [==============================] - 3s 5ms/step - loss: 0.0047 - sparse_categorical_accuracy: 0.9994 - val_loss: 0.0993 - val_sparse_categorical_accuracy: 0.9748\n",
      "Epoch 8/30\n",
      "469/469 [==============================] - 2s 4ms/step - loss: 0.0043 - sparse_categorical_accuracy: 0.9993 - val_loss: 0.0791 - val_sparse_categorical_accuracy: 0.9803\n",
      "Epoch 9/30\n",
      "469/469 [==============================] - 3s 5ms/step - loss: 0.0034 - sparse_categorical_accuracy: 0.9996 - val_loss: 0.0836 - val_sparse_categorical_accuracy: 0.9796\n",
      "Epoch 10/30\n",
      "469/469 [==============================] - 2s 4ms/step - loss: 0.0053 - sparse_categorical_accuracy: 0.9988 - val_loss: 0.1173 - val_sparse_categorical_accuracy: 0.9727\n",
      "Epoch 11/30\n",
      "469/469 [==============================] - 2s 3ms/step - loss: 0.0087 - sparse_categorical_accuracy: 0.9977 - val_loss: 0.0934 - val_sparse_categorical_accuracy: 0.9778\n",
      "Restoring model weights from the end of the best epoch.\n",
      "Epoch 00011: early stopping\n"
     ]
    },
    {
     "data": {
      "text/plain": [
       "<keras.callbacks.History at 0x190da5c2788>"
      ]
     },
     "execution_count": 5,
     "metadata": {},
     "output_type": "execute_result"
    }
   ],
   "source": [
    "model.fit(\n",
    "    ds_train,\n",
    "    epochs=30,\n",
    "    validation_data=ds_test,\n",
    "#     callbacks = [LRS({2:0.45, 4:0.09 , 6 : 0.01 , 10 : 0.05})]\n",
    "    callbacks = [EarlyStoppingAtMinLoss(patience = 2)]\n",
    ")"
   ]
  },
  {
   "cell_type": "code",
   "execution_count": null,
   "id": "9e8333f2",
   "metadata": {},
   "outputs": [],
   "source": []
  },
  {
   "cell_type": "code",
   "execution_count": null,
   "id": "6af0506a",
   "metadata": {},
   "outputs": [],
   "source": []
  }
 ],
 "metadata": {
  "kernelspec": {
   "display_name": "Python 3 (ipykernel)",
   "language": "python",
   "name": "python3"
  },
  "language_info": {
   "codemirror_mode": {
    "name": "ipython",
    "version": 3
   },
   "file_extension": ".py",
   "mimetype": "text/x-python",
   "name": "python",
   "nbconvert_exporter": "python",
   "pygments_lexer": "ipython3",
   "version": "3.7.9"
  },
  "toc": {
   "base_numbering": 1,
   "nav_menu": {},
   "number_sections": true,
   "sideBar": true,
   "skip_h1_title": false,
   "title_cell": "Table of Contents",
   "title_sidebar": "Contents",
   "toc_cell": false,
   "toc_position": {},
   "toc_section_display": true,
   "toc_window_display": false
  },
  "varInspector": {
   "cols": {
    "lenName": 16,
    "lenType": 16,
    "lenVar": 40
   },
   "kernels_config": {
    "python": {
     "delete_cmd_postfix": "",
     "delete_cmd_prefix": "del ",
     "library": "var_list.py",
     "varRefreshCmd": "print(var_dic_list())"
    },
    "r": {
     "delete_cmd_postfix": ") ",
     "delete_cmd_prefix": "rm(",
     "library": "var_list.r",
     "varRefreshCmd": "cat(var_dic_list()) "
    }
   },
   "types_to_exclude": [
    "module",
    "function",
    "builtin_function_or_method",
    "instance",
    "_Feature"
   ],
   "window_display": false
  }
 },
 "nbformat": 4,
 "nbformat_minor": 5
}
